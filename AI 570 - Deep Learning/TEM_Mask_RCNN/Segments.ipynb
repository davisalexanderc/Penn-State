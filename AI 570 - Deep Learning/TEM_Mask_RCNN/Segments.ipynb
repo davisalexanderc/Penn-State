{
 "cells": [
  {
   "cell_type": "code",
   "execution_count": 9,
   "metadata": {},
   "outputs": [
    {
     "name": "stdout",
     "output_type": "stream",
     "text": [
      "Initializing dataset...\n",
      "Preloading all samples. This may take a while...\n"
     ]
    },
    {
     "name": "stderr",
     "output_type": "stream",
     "text": [
      "100%|\u001b[38;2;255;153;0m██████████\u001b[0m| 21/21 [00:00<00:00, 5251.32it/s]"
     ]
    },
    {
     "name": "stdout",
     "output_type": "stream",
     "text": [
      "Initialized dataset with 21 images.\n",
      "Exporting dataset. This may take a while...\n"
     ]
    },
    {
     "name": "stderr",
     "output_type": "stream",
     "text": [
      "\n"
     ]
    },
    {
     "ename": "ValueError",
     "evalue": "Only datasets of type `segmentation-bitmap` and `segmentation-bitmap-highres` can be exported to this format.",
     "output_type": "error",
     "traceback": [
      "\u001b[1;31m---------------------------------------------------------------------------\u001b[0m",
      "\u001b[1;31mValueError\u001b[0m                                Traceback (most recent call last)",
      "Cell \u001b[1;32mIn[9], line 21\u001b[0m\n\u001b[0;32m     18\u001b[0m dataset \u001b[38;5;241m=\u001b[39m SegmentsDataset(release, labelset\u001b[38;5;241m=\u001b[39m\u001b[38;5;124m'\u001b[39m\u001b[38;5;124mground-truth\u001b[39m\u001b[38;5;124m'\u001b[39m, filter_by\u001b[38;5;241m=\u001b[39m[\u001b[38;5;124m'\u001b[39m\u001b[38;5;124mlabeled\u001b[39m\u001b[38;5;124m'\u001b[39m, \u001b[38;5;124m'\u001b[39m\u001b[38;5;124mreviewed\u001b[39m\u001b[38;5;124m'\u001b[39m])\n\u001b[0;32m     20\u001b[0m \u001b[38;5;66;03m# Export to COCO panoptic format\u001b[39;00m\n\u001b[1;32m---> 21\u001b[0m \u001b[43mexport_dataset\u001b[49m\u001b[43m(\u001b[49m\u001b[43mdataset\u001b[49m\u001b[43m,\u001b[49m\u001b[43m \u001b[49m\u001b[43mexport_format\u001b[49m\u001b[38;5;241;43m=\u001b[39;49m\u001b[38;5;124;43m'\u001b[39;49m\u001b[38;5;124;43mpolygon\u001b[39;49m\u001b[38;5;124;43m'\u001b[39;49m\u001b[43m)\u001b[49m\n",
      "File \u001b[1;32mc:\\Users\\Alex\\anaconda3\\Lib\\site-packages\\segments\\utils.py:292\u001b[0m, in \u001b[0;36mexport_dataset\u001b[1;34m(dataset, export_folder, export_format, id_increment, **kwargs)\u001b[0m\n\u001b[0;32m    290\u001b[0m \u001b[38;5;28;01melif\u001b[39;00m export_format \u001b[38;5;241m==\u001b[39m ExportFormat\u001b[38;5;241m.\u001b[39mPOLYGON:\n\u001b[0;32m    291\u001b[0m     \u001b[38;5;28;01mif\u001b[39;00m dataset\u001b[38;5;241m.\u001b[39mtask_type \u001b[38;5;129;01mnot\u001b[39;00m \u001b[38;5;129;01min\u001b[39;00m COMPATIBLE_TASK_TYPES[export_format]:\n\u001b[1;32m--> 292\u001b[0m         \u001b[38;5;28;01mraise\u001b[39;00m \u001b[38;5;167;01mValueError\u001b[39;00m(\n\u001b[0;32m    293\u001b[0m             \u001b[38;5;124m\"\u001b[39m\u001b[38;5;124mOnly datasets of type `segmentation-bitmap` and `segmentation-bitmap-highres` can be exported to this format.\u001b[39m\u001b[38;5;124m\"\u001b[39m\n\u001b[0;32m    294\u001b[0m         )\n\u001b[0;32m    295\u001b[0m     \u001b[38;5;28;01mfrom\u001b[39;00m \u001b[38;5;21;01m.\u001b[39;00m\u001b[38;5;21;01mexport\u001b[39;00m \u001b[38;5;28;01mimport\u001b[39;00m export_polygon\n\u001b[0;32m    297\u001b[0m     \u001b[38;5;28;01mreturn\u001b[39;00m export_polygon(dataset, export_folder)\n",
      "\u001b[1;31mValueError\u001b[0m: Only datasets of type `segmentation-bitmap` and `segmentation-bitmap-highres` can be exported to this format."
     ]
    }
   ],
   "source": [
    "# pip install tensorflow\n",
    "# pip install segments-ai\n",
    "# pip install pycocotools\n",
    "\n",
    "import sys\n",
    "import os\n",
    "import tensorflow as tf\n",
    "import torch\n",
    "from segments import SegmentsClient, SegmentsDataset\n",
    "from segments.utils import export_dataset\n",
    "\n",
    "# Initialize a SegmentsDataset from the release file\n",
    "API_folder = \"C:/Users/alex/Desktop/API_keys/\"\n",
    "API_file = \"Segments_API.txt\"\n",
    "api_key = open(API_folder + API_file, \"r\").readline().strip()\n",
    "client = SegmentsClient(api_key)\n",
    "release = client.get_release('davis_alexander/TEM_Project4', 'TEM_V01')   # Alternatively: release = 'flowers-v1.0.json'\n",
    "dataset = SegmentsDataset(release, labelset='ground-truth', filter_by=['labeled', 'reviewed'])\n",
    "\n",
    "# Export to COCO panoptic format\n",
    "export_dataset(dataset, export_format='polygon')"
   ]
  },
  {
   "cell_type": "code",
   "execution_count": null,
   "metadata": {},
   "outputs": [],
   "source": []
  }
 ],
 "metadata": {
  "kernelspec": {
   "display_name": "base",
   "language": "python",
   "name": "python3"
  },
  "language_info": {
   "codemirror_mode": {
    "name": "ipython",
    "version": 3
   },
   "file_extension": ".py",
   "mimetype": "text/x-python",
   "name": "python",
   "nbconvert_exporter": "python",
   "pygments_lexer": "ipython3",
   "version": "3.11.7"
  }
 },
 "nbformat": 4,
 "nbformat_minor": 2
}
