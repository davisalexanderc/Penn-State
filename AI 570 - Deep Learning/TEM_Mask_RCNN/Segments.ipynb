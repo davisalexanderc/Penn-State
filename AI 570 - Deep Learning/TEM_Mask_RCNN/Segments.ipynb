{
 "cells": [
  {
   "cell_type": "code",
   "execution_count": 2,
   "metadata": {},
   "outputs": [
    {
     "name": "stdout",
     "output_type": "stream",
     "text": [
      "Initializing dataset...\n",
      "Preloading all samples. This may take a while...\n"
     ]
    },
    {
     "name": "stderr",
     "output_type": "stream",
     "text": [
      "100%|\u001b[38;2;255;153;0m██████████\u001b[0m| 116/116 [00:05<00:00, 21.44it/s]\n"
     ]
    },
    {
     "name": "stdout",
     "output_type": "stream",
     "text": [
      "Initialized dataset with 116 images.\n",
      "Exporting dataset. This may take a while...\n"
     ]
    },
    {
     "name": "stderr",
     "output_type": "stream",
     "text": [
      "100%|\u001b[38;2;255;153;0m██████████\u001b[0m| 116/116 [00:34<00:00,  3.32it/s]"
     ]
    },
    {
     "name": "stdout",
     "output_type": "stream",
     "text": [
      "Exported to .\\export_coco-instance_davis_alexander_TEM_Project4_TEM_V03.json. Images in segments\\davis_alexander_TEM_Project4\\TEM_V03\n"
     ]
    },
    {
     "name": "stderr",
     "output_type": "stream",
     "text": [
      "\n"
     ]
    },
    {
     "data": {
      "text/plain": [
       "('.\\\\export_coco-instance_davis_alexander_TEM_Project4_TEM_V03.json',\n",
       " 'segments\\\\davis_alexander_TEM_Project4\\\\TEM_V03')"
      ]
     },
     "execution_count": 2,
     "metadata": {},
     "output_type": "execute_result"
    }
   ],
   "source": [
    "# File: export_coco_instance.py\n",
    "# This script interacts with the Segments API to export a dataset to COCO-instance format.\n",
    "\n",
    "###### Uncomment the following lines to install the required packages ######\n",
    "# pip install tensorflow\n",
    "# pip install segments-ai\n",
    "# pip install pycocotools\n",
    "\n",
    "import sys\n",
    "import os\n",
    "import tensorflow as tf\n",
    "import torch\n",
    "from segments import SegmentsClient, SegmentsDataset\n",
    "from segments.utils import export_dataset\n",
    "\n",
    "# Initialize a SegmentsDataset from the release file\n",
    "API_folder = \"C:/Users/alex/Desktop/API_keys/\" # Change this to the folder where your API key is stored\n",
    "API_file = \"Segments_API.txt\" # Change this to the name of your API key file\n",
    "api_key = open(API_folder + API_file, \"r\").readline().strip()\n",
    "client = SegmentsClient(api_key)\n",
    "release = client.get_release('davis_alexander/TEM_Project4', 'TEM_V03')   # Change to your username/project and release name\n",
    "dataset = SegmentsDataset(release, labelset='ground-truth', filter_by=['labeled', 'reviewed'])\n",
    "\n",
    "# Export to COCO-instance format\n",
    "export_dataset(dataset, export_format='coco-instance')"
   ]
  },
  {
   "cell_type": "code",
   "execution_count": null,
   "metadata": {},
   "outputs": [],
   "source": []
  }
 ],
 "metadata": {
  "kernelspec": {
   "display_name": "base",
   "language": "python",
   "name": "python3"
  },
  "language_info": {
   "codemirror_mode": {
    "name": "ipython",
    "version": 3
   },
   "file_extension": ".py",
   "mimetype": "text/x-python",
   "name": "python",
   "nbconvert_exporter": "python",
   "pygments_lexer": "ipython3",
   "version": "3.11.7"
  }
 },
 "nbformat": 4,
 "nbformat_minor": 2
}
