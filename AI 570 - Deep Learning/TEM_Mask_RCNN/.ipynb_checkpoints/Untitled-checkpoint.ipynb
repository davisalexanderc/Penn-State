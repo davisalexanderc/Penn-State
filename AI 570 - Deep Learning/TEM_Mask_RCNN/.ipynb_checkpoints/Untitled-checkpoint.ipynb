{
 "cells": [
  {
   "cell_type": "code",
   "execution_count": null,
   "id": "2df4ed28",
   "metadata": {},
   "outputs": [],
   "source": [
    "import tensorflow as tf\n",
    "print(tf.__version__)\n",
    "gpus = tf.config.list_physical_devices('GPU')\n",
    "if gpus:\n",
    "    for gpu in gpus:\n",
    "        print(f\"GPU: {gpu}\")\n",
    "else:\n",
    "    print(\"No GPU found.\")\n",
    "\n",
    "from segments import SegmentsClient\n",
    "import json\n",
    "\n",
    "# Use your Segments.ai API key\n",
    "api_key = \"5cbef367a931da35b50d73fa78b69709459b0309\"\n",
    "client = SegmentsClient(api_key)\n",
    "\n",
    "# Replace with your dataset identifier\n",
    "dataset_identifier = 'davis_alexander/TEM_project'\n",
    "\n",
    "dataset = client.get_dataset(dataset_identifier)\n",
    "print(dataset)\n",
    "\n",
    "sample = client.get_samples(dataset_identifier)[0]\n",
    "\n",
    "label = client.get_label(sample.uuid, labelset='ground-truth')\n",
    "print(label)\n",
    "\n",
    "import numpy as np\n",
    "import matplotlib.pyplot as plt\n",
    "from segments.utils import load_image_from_url, load_label_bitmap_from_url, get_semantic_bitmap\n",
    "\n",
    "# Load the labels as numpy arrays\n",
    "image = load_image_from_url(sample.attributes.image.url)\n",
    "instance_bitmap = load_label_bitmap_from_url(label.attributes.segmentation_bitmap.url)\n",
    "semantic_bitmap = get_semantic_bitmap(instance_bitmap, label.attributes.annotations)\n",
    "\n",
    "# Visualize\n",
    "plt.imshow(image)\n",
    "plt.title('Image')\n",
    "plt.show()\n",
    "\n",
    "plt.imshow(instance_bitmap)\n",
    "plt.title(f'Instance bitmap. Values represent instance ids: {np.unique(instance_bitmap)}')\n",
    "plt.show()\n",
    "\n",
    "plt.imshow(semantic_bitmap)\n",
    "plt.title(f'Semantic bitmap. Values represent category ids: {np.unique(semantic_bitmap)}')\n",
    "plt.show()\n",
    "\n",
    "print('test')"
   ]
  }
 ],
 "metadata": {
  "kernelspec": {
   "display_name": "Python 3 (ipykernel)",
   "language": "python",
   "name": "python3"
  },
  "language_info": {
   "codemirror_mode": {
    "name": "ipython",
    "version": 3
   },
   "file_extension": ".py",
   "mimetype": "text/x-python",
   "name": "python",
   "nbconvert_exporter": "python",
   "pygments_lexer": "ipython3",
   "version": "3.11.7"
  }
 },
 "nbformat": 4,
 "nbformat_minor": 5
}
