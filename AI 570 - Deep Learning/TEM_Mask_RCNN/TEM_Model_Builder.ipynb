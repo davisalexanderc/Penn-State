{
 "cells": [
  {
   "cell_type": "code",
   "execution_count": null,
   "metadata": {},
   "outputs": [],
   "source": [
    "!pip list"
   ]
  },
  {
   "cell_type": "code",
   "execution_count": 2,
   "metadata": {},
   "outputs": [
    {
     "ename": "AttributeError",
     "evalue": "'_MetadataCatalog' object has no attribute '_metadata'",
     "output_type": "error",
     "traceback": [
      "\u001b[1;31m---------------------------------------------------------------------------\u001b[0m",
      "\u001b[1;31mAttributeError\u001b[0m                            Traceback (most recent call last)",
      "Cell \u001b[1;32mIn[2], line 10\u001b[0m\n\u001b[0;32m      7\u001b[0m         \u001b[38;5;28;01mdel\u001b[39;00m MetadataCatalog\u001b[38;5;241m.\u001b[39m_metadata[name]\n\u001b[0;32m      9\u001b[0m \u001b[38;5;66;03m# Unregister datasets if already registered\u001b[39;00m\n\u001b[1;32m---> 10\u001b[0m \u001b[43munregister_dataset\u001b[49m\u001b[43m(\u001b[49m\u001b[38;5;124;43m'\u001b[39;49m\u001b[38;5;124;43mmy_dataset_train\u001b[39;49m\u001b[38;5;124;43m'\u001b[39;49m\u001b[43m)\u001b[49m\n\u001b[0;32m     11\u001b[0m unregister_dataset(\u001b[38;5;124m'\u001b[39m\u001b[38;5;124mmy_dataset_val\u001b[39m\u001b[38;5;124m'\u001b[39m)\n\u001b[0;32m     12\u001b[0m unregister_dataset(\u001b[38;5;124m'\u001b[39m\u001b[38;5;124mmy_dataset_test\u001b[39m\u001b[38;5;124m'\u001b[39m)\n",
      "Cell \u001b[1;32mIn[2], line 7\u001b[0m, in \u001b[0;36munregister_dataset\u001b[1;34m(name)\u001b[0m\n\u001b[0;32m      5\u001b[0m     DatasetCatalog\u001b[38;5;241m.\u001b[39mremove(name)\n\u001b[0;32m      6\u001b[0m \u001b[38;5;28;01mif\u001b[39;00m name \u001b[38;5;129;01min\u001b[39;00m MetadataCatalog\u001b[38;5;241m.\u001b[39mlist():\n\u001b[1;32m----> 7\u001b[0m     \u001b[38;5;28;01mdel\u001b[39;00m \u001b[43mMetadataCatalog\u001b[49m\u001b[38;5;241;43m.\u001b[39;49m\u001b[43m_metadata\u001b[49m[name]\n",
      "\u001b[1;31mAttributeError\u001b[0m: '_MetadataCatalog' object has no attribute '_metadata'"
     ]
    }
   ],
   "source": [
    "from detectron2.data import DatasetCatalog, MetadataCatalog\n",
    "\n",
    "def unregister_dataset(name):\n",
    "    if name in DatasetCatalog.list():\n",
    "        DatasetCatalog.remove(name)\n",
    "    if name in MetadataCatalog.list():\n",
    "        del MetadataCatalog._metadata[name]\n",
    "\n",
    "# Unregister datasets if already registered\n",
    "unregister_dataset('my_dataset_train')\n",
    "unregister_dataset('my_dataset_val')\n",
    "unregister_dataset('my_dataset_test')\n"
   ]
  },
  {
   "cell_type": "code",
   "execution_count": 1,
   "metadata": {},
   "outputs": [
    {
     "name": "stdout",
     "output_type": "stream",
     "text": [
      "Metadata(name='my_dataset_train')\n"
     ]
    },
    {
     "ename": "AttributeError",
     "evalue": "Attribute 'thing_classes' does not exist in the metadata of dataset 'my_dataset_train': metadata is empty.",
     "output_type": "error",
     "traceback": [
      "\u001b[1;31m---------------------------------------------------------------------------\u001b[0m",
      "\u001b[1;31mAttributeError\u001b[0m                            Traceback (most recent call last)",
      "Cell \u001b[1;32mIn[1], line 4\u001b[0m\n\u001b[0;32m      1\u001b[0m \u001b[38;5;28;01mfrom\u001b[39;00m \u001b[38;5;21;01mutils\u001b[39;00m \u001b[38;5;28;01mimport\u001b[39;00m train_model\n\u001b[0;32m      3\u001b[0m data_dir \u001b[38;5;241m=\u001b[39m \u001b[38;5;124m'\u001b[39m\u001b[38;5;124m./data\u001b[39m\u001b[38;5;124m'\u001b[39m\n\u001b[1;32m----> 4\u001b[0m model \u001b[38;5;241m=\u001b[39m \u001b[43mtrain_model\u001b[49m\u001b[43m(\u001b[49m\u001b[43mdata_dir\u001b[49m\u001b[43m)\u001b[49m\n",
      "File \u001b[1;32mg:\\Research_Files\\GitHub\\Penn-State\\AI 570 - Deep Learning\\TEM_Mask_RCNN\\utils.py:44\u001b[0m, in \u001b[0;36mtrain_model\u001b[1;34m(data_dir)\u001b[0m\n\u001b[0;32m     41\u001b[0m val_metadata \u001b[38;5;241m=\u001b[39m MetadataCatalog\u001b[38;5;241m.\u001b[39mget(\u001b[38;5;124m'\u001b[39m\u001b[38;5;124mmy_dataset_val\u001b[39m\u001b[38;5;124m'\u001b[39m)\n\u001b[0;32m     43\u001b[0m \u001b[38;5;28mprint\u001b[39m(train_metadata)\n\u001b[1;32m---> 44\u001b[0m \u001b[38;5;28mprint\u001b[39m(\u001b[38;5;28mlen\u001b[39m(\u001b[43mtrain_metadata\u001b[49m\u001b[38;5;241;43m.\u001b[39;49m\u001b[43mthing_classes\u001b[49m))\n\u001b[0;32m     46\u001b[0m \u001b[38;5;66;03m# Configure the training run\u001b[39;00m\n\u001b[0;32m     47\u001b[0m cfg \u001b[38;5;241m=\u001b[39m get_cfg()\n",
      "File \u001b[1;32mc:\\Users\\Alex\\anaconda3\\Lib\\site-packages\\detectron2\\data\\catalog.py:131\u001b[0m, in \u001b[0;36mMetadata.__getattr__\u001b[1;34m(self, key)\u001b[0m\n\u001b[0;32m    126\u001b[0m     \u001b[38;5;28;01mraise\u001b[39;00m \u001b[38;5;167;01mAttributeError\u001b[39;00m(\n\u001b[0;32m    127\u001b[0m         \u001b[38;5;124m\"\u001b[39m\u001b[38;5;124mAttribute \u001b[39m\u001b[38;5;124m'\u001b[39m\u001b[38;5;132;01m{}\u001b[39;00m\u001b[38;5;124m'\u001b[39m\u001b[38;5;124m does not exist in the metadata of dataset \u001b[39m\u001b[38;5;124m'\u001b[39m\u001b[38;5;132;01m{}\u001b[39;00m\u001b[38;5;124m'\u001b[39m\u001b[38;5;124m. Available \u001b[39m\u001b[38;5;124m\"\u001b[39m\n\u001b[0;32m    128\u001b[0m         \u001b[38;5;124m\"\u001b[39m\u001b[38;5;124mkeys are \u001b[39m\u001b[38;5;132;01m{}\u001b[39;00m\u001b[38;5;124m.\u001b[39m\u001b[38;5;124m\"\u001b[39m\u001b[38;5;241m.\u001b[39mformat(key, \u001b[38;5;28mself\u001b[39m\u001b[38;5;241m.\u001b[39mname, \u001b[38;5;28mstr\u001b[39m(\u001b[38;5;28mself\u001b[39m\u001b[38;5;241m.\u001b[39m\u001b[38;5;18m__dict__\u001b[39m\u001b[38;5;241m.\u001b[39mkeys()))\n\u001b[0;32m    129\u001b[0m     )\n\u001b[0;32m    130\u001b[0m \u001b[38;5;28;01melse\u001b[39;00m:\n\u001b[1;32m--> 131\u001b[0m     \u001b[38;5;28;01mraise\u001b[39;00m \u001b[38;5;167;01mAttributeError\u001b[39;00m(\n\u001b[0;32m    132\u001b[0m         \u001b[38;5;124mf\u001b[39m\u001b[38;5;124m\"\u001b[39m\u001b[38;5;124mAttribute \u001b[39m\u001b[38;5;124m'\u001b[39m\u001b[38;5;132;01m{\u001b[39;00mkey\u001b[38;5;132;01m}\u001b[39;00m\u001b[38;5;124m'\u001b[39m\u001b[38;5;124m does not exist in the metadata of dataset \u001b[39m\u001b[38;5;124m'\u001b[39m\u001b[38;5;132;01m{\u001b[39;00m\u001b[38;5;28mself\u001b[39m\u001b[38;5;241m.\u001b[39mname\u001b[38;5;132;01m}\u001b[39;00m\u001b[38;5;124m'\u001b[39m\u001b[38;5;124m: \u001b[39m\u001b[38;5;124m\"\u001b[39m\n\u001b[0;32m    133\u001b[0m         \u001b[38;5;124m\"\u001b[39m\u001b[38;5;124mmetadata is empty.\u001b[39m\u001b[38;5;124m\"\u001b[39m\n\u001b[0;32m    134\u001b[0m     )\n",
      "\u001b[1;31mAttributeError\u001b[0m: Attribute 'thing_classes' does not exist in the metadata of dataset 'my_dataset_train': metadata is empty."
     ]
    }
   ],
   "source": [
    "from utils import train_model\n",
    "\n",
    "data_dir = './data/'\n",
    "model = train_model(data_dir)"
   ]
  },
  {
   "cell_type": "code",
   "execution_count": null,
   "metadata": {},
   "outputs": [],
   "source": [
    "from utils import Model, visualize\n",
    "import cv2\n",
    "\n",
    "# Load a sample image\n",
    "image_path = './data/images/test/image1.jpg'  # Path to a test image\n",
    "image = cv2.imread(image_path)\n",
    "image = cv2.cvtColor(image, cv2.COLOR_BGR2RGB)\n",
    "\n",
    "# Predict and visualize\n",
    "label, label_data = model(image)\n",
    "visualize(image, label)"
   ]
  }
 ],
 "metadata": {
  "kernelspec": {
   "display_name": "base",
   "language": "python",
   "name": "python3"
  },
  "language_info": {
   "codemirror_mode": {
    "name": "ipython",
    "version": 3
   },
   "file_extension": ".py",
   "mimetype": "text/x-python",
   "name": "python",
   "nbconvert_exporter": "python",
   "pygments_lexer": "ipython3",
   "version": "3.11.7"
  }
 },
 "nbformat": 4,
 "nbformat_minor": 2
}
