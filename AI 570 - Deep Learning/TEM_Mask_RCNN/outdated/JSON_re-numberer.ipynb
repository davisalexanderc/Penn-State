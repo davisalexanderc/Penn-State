{
 "cells": [
  {
   "cell_type": "code",
   "execution_count": 4,
   "metadata": {},
   "outputs": [
    {
     "ename": "KeyError",
     "evalue": "5",
     "output_type": "error",
     "traceback": [
      "\u001b[1;31m---------------------------------------------------------------------------\u001b[0m",
      "\u001b[1;31mKeyError\u001b[0m                                  Traceback (most recent call last)",
      "Cell \u001b[1;32mIn[4], line 27\u001b[0m\n\u001b[0;32m     24\u001b[0m output_file \u001b[38;5;241m=\u001b[39m \u001b[38;5;124m'\u001b[39m\u001b[38;5;124m./data/annotations/renumbered_val_annotations.json\u001b[39m\u001b[38;5;124m'\u001b[39m  \u001b[38;5;66;03m# Change this to your desired output file path\u001b[39;00m\n\u001b[0;32m     26\u001b[0m \u001b[38;5;66;03m# Renumber image IDs\u001b[39;00m\n\u001b[1;32m---> 27\u001b[0m \u001b[43mrenumber_image_ids\u001b[49m\u001b[43m(\u001b[49m\u001b[43minput_file\u001b[49m\u001b[43m,\u001b[49m\u001b[43m \u001b[49m\u001b[43moutput_file\u001b[49m\u001b[43m)\u001b[49m\n\u001b[0;32m     29\u001b[0m \u001b[38;5;28mprint\u001b[39m(\u001b[38;5;124mf\u001b[39m\u001b[38;5;124m\"\u001b[39m\u001b[38;5;124mRenumbered dataset saved to \u001b[39m\u001b[38;5;132;01m{\u001b[39;00moutput_file\u001b[38;5;132;01m}\u001b[39;00m\u001b[38;5;124m\"\u001b[39m)\n",
      "Cell \u001b[1;32mIn[4], line 16\u001b[0m, in \u001b[0;36mrenumber_image_ids\u001b[1;34m(input_file, output_file)\u001b[0m\n\u001b[0;32m     14\u001b[0m \u001b[38;5;66;03m# Update image IDs in annotations\u001b[39;00m\n\u001b[0;32m     15\u001b[0m \u001b[38;5;28;01mfor\u001b[39;00m annotation \u001b[38;5;129;01min\u001b[39;00m data[\u001b[38;5;124m'\u001b[39m\u001b[38;5;124mannotations\u001b[39m\u001b[38;5;124m'\u001b[39m]:\n\u001b[1;32m---> 16\u001b[0m     annotation[\u001b[38;5;124m'\u001b[39m\u001b[38;5;124mimage_id\u001b[39m\u001b[38;5;124m'\u001b[39m] \u001b[38;5;241m=\u001b[39m \u001b[43mimage_id_mapping\u001b[49m\u001b[43m[\u001b[49m\u001b[43mannotation\u001b[49m\u001b[43m[\u001b[49m\u001b[38;5;124;43m'\u001b[39;49m\u001b[38;5;124;43mimage_id\u001b[39;49m\u001b[38;5;124;43m'\u001b[39;49m\u001b[43m]\u001b[49m\u001b[43m]\u001b[49m\n\u001b[0;32m     18\u001b[0m \u001b[38;5;66;03m# Save the updated JSON file\u001b[39;00m\n\u001b[0;32m     19\u001b[0m \u001b[38;5;28;01mwith\u001b[39;00m \u001b[38;5;28mopen\u001b[39m(output_file, \u001b[38;5;124m'\u001b[39m\u001b[38;5;124mw\u001b[39m\u001b[38;5;124m'\u001b[39m) \u001b[38;5;28;01mas\u001b[39;00m f:\n",
      "\u001b[1;31mKeyError\u001b[0m: 5"
     ]
    }
   ],
   "source": [
    "import json\n",
    "\n",
    "def renumber_image_ids(input_file, output_file):\n",
    "    with open(input_file, 'r') as f:\n",
    "        data = json.load(f)\n",
    "\n",
    "    # Renumber image IDs sequentially\n",
    "    image_id_mapping = {old_id: new_id for new_id, old_id in enumerate(sorted({image['id'] for image in data['images']}), start=1)}\n",
    "\n",
    "    # Update image IDs in images\n",
    "    for image in data['images']:\n",
    "        image['id'] = image_id_mapping[image['id']]\n",
    "\n",
    "    # Update image IDs in annotations\n",
    "    for annotation in data['annotations']:\n",
    "        annotation['image_id'] = image_id_mapping[annotation['image_id']]\n",
    "\n",
    "    # Save the updated JSON file\n",
    "    with open(output_file, 'w') as f:\n",
    "        json.dump(data, f, indent=4)\n",
    "\n",
    "# Input and output file paths\n",
    "input_file = './data/annotations/val_annotations.json'  # Change this to your file path\n",
    "output_file = './data/annotations/renumbered_val_annotations.json'  # Change this to your desired output file path\n",
    "\n",
    "# Renumber image IDs\n",
    "renumber_image_ids(input_file, output_file)\n",
    "\n",
    "print(f\"Renumbered dataset saved to {output_file}\")\n"
   ]
  }
 ],
 "metadata": {
  "kernelspec": {
   "display_name": "base",
   "language": "python",
   "name": "python3"
  },
  "language_info": {
   "codemirror_mode": {
    "name": "ipython",
    "version": 3
   },
   "file_extension": ".py",
   "mimetype": "text/x-python",
   "name": "python",
   "nbconvert_exporter": "python",
   "pygments_lexer": "ipython3",
   "version": "3.11.7"
  }
 },
 "nbformat": 4,
 "nbformat_minor": 2
}
