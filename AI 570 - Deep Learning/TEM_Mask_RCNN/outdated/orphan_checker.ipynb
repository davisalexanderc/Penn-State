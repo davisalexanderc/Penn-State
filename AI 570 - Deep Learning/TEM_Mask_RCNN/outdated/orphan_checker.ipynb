{
 "cells": [
  {
   "cell_type": "code",
   "execution_count": 9,
   "metadata": {},
   "outputs": [
    {
     "name": "stdout",
     "output_type": "stream",
     "text": [
      "No orphan annotations found.\n",
      "Total annotations: 1444\n",
      "Valid annotations: 1444\n"
     ]
    }
   ],
   "source": [
    "import json\n",
    "\n",
    "def report_orphan_annotations(annotation_file):\n",
    "    with open(annotation_file, 'r') as f:\n",
    "        data = json.load(f)\n",
    "    \n",
    "    # Get the set of image IDs\n",
    "    image_ids = {image['id'] for image in data['images']}\n",
    "    \n",
    "    # Find annotations that do not have corresponding images\n",
    "    orphan_annotations = [anno for anno in data['annotations'] if anno['image_id'] not in image_ids]\n",
    "    \n",
    "    if orphan_annotations:\n",
    "        print(f\"Found {len(orphan_annotations)} orphan annotations:\")\n",
    "        for anno in orphan_annotations:\n",
    "            print(f\"Annotation ID: {anno['id']} - Image ID: {anno['image_id']}\")\n",
    "    else:\n",
    "        print(\"No orphan annotations found.\")\n",
    "    \n",
    "    # Report the number of valid annotations\n",
    "    valid_annotations = len(data['annotations']) - len(orphan_annotations)\n",
    "    print(f\"Total annotations: {len(data['annotations'])}\")\n",
    "    print(f\"Valid annotations: {valid_annotations}\")\n",
    "\n",
    "# Paths to your annotation files\n",
    "val_annotation_file = 'val_annotations.json' #'./data/annotations/val_annotations.json'\n",
    "\n",
    "# Report orphan annotations\n",
    "report_orphan_annotations(val_annotation_file)\n"
   ]
  },
  {
   "cell_type": "code",
   "execution_count": null,
   "metadata": {},
   "outputs": [],
   "source": []
  }
 ],
 "metadata": {
  "kernelspec": {
   "display_name": "base",
   "language": "python",
   "name": "python3"
  },
  "language_info": {
   "codemirror_mode": {
    "name": "ipython",
    "version": 3
   },
   "file_extension": ".py",
   "mimetype": "text/x-python",
   "name": "python",
   "nbconvert_exporter": "python",
   "pygments_lexer": "ipython3",
   "version": "3.11.7"
  }
 },
 "nbformat": 4,
 "nbformat_minor": 2
}
